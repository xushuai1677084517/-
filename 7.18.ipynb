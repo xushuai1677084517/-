{
 "cells": [
  {
   "cell_type": "markdown",
   "metadata": {},
   "source": [
    "# 选择\n",
    "## 布尔类型、数值和表达式\n",
    "![](../Photo/33.png)\n",
    "- 注意：比较运算符的相等是两个等号，一个等到代表赋值\n",
    "- 在Python中可以用整型0来代表False，其他数字来代表True\n",
    "- 后面还会讲到 is 在判断语句中的用发"
   ]
  },
  {
   "cell_type": "markdown",
   "metadata": {},
   "source": [
    "## 字符串的比较使用ASCII值"
   ]
  },
  {
   "cell_type": "markdown",
   "metadata": {},
   "source": [
    "## Markdown \n",
    "- https://github.com/younghz/Markdown"
   ]
  },
  {
   "cell_type": "markdown",
   "metadata": {},
   "source": [
    "## EP:\n",
    "- <img src=\"../Photo/34.png\"></img>\n",
    "- 输入一个数字，判断其实奇数还是偶数"
   ]
  },
  {
   "cell_type": "markdown",
   "metadata": {},
   "source": [
    "## 产生随机数字\n",
    "- 函数random.randint(a,b) 可以用来产生一个a和b之间且包括a和b的随机整数"
   ]
  },
  {
   "cell_type": "markdown",
   "metadata": {},
   "source": [
    "产生一个随机数，你去输入，如果你输入的数大于随机数，那么就告诉你太大了，反之，太小了，\n",
    "然后你一直输入，知道它满意为止"
   ]
  },
  {
   "cell_type": "markdown",
   "metadata": {},
   "source": [
    "##  其他random方法\n",
    "- random.random 返回0.0到1.0之间前闭后开区间的随机浮点\n",
    "- random.randrange(a,b) 前闭后开"
   ]
  },
  {
   "cell_type": "markdown",
   "metadata": {},
   "source": [
    "## EP：\n",
    "- 产生两个随机整数number1和number2，然后显示给用户，使用户输入数字的和，并判定其是否正确\n",
    "- 进阶:写一个随机序号点名程序"
   ]
  },
  {
   "cell_type": "markdown",
   "metadata": {},
   "source": [
    "## if语句\n",
    "- 如果条件正确就执行一个单向if语句，亦即当条件为真的时候才执行if内部的语句\n",
    "- Python有很多选择语句:\n",
    "> - 单向if \n",
    "  - 双向if-else\n",
    "  - 嵌套if\n",
    "  - 多向if-elif-else\n",
    "  \n",
    "- 注意：当语句含有子语句的时候，那么一定至少要有一个缩进，也就是说如果有儿子存在，那么一定要缩进\n",
    "- 切记不可tab键和space混用，单用tab 或者 space\n",
    "- 当你输出的结果是无论if是否为真时都需要显示时，语句应该与if对齐"
   ]
  },
  {
   "cell_type": "markdown",
   "metadata": {},
   "source": [
    "## EP：\n",
    "- 用户输入一个数字，判断其实奇数还是偶数\n",
    "- 进阶：可以查看下4.5实例研究猜生日"
   ]
  },
  {
   "cell_type": "markdown",
   "metadata": {},
   "source": [
    "## 双向if-else 语句\n",
    "- 如果条件为真，那么走if内部语句，否则走else内部语句"
   ]
  },
  {
   "cell_type": "markdown",
   "metadata": {},
   "source": [
    "## EP：\n",
    "- 产生两个随机整数number1和number2，然后显示给用户，使用户输入数字，并判定其是否正确,如果正确打印“you‘re correct”，否则打印正确错误"
   ]
  },
  {
   "cell_type": "markdown",
   "metadata": {},
   "source": [
    "## 嵌套if 和多向if-elif-else\n",
    "![](../Photo/35.png)"
   ]
  },
  {
   "cell_type": "markdown",
   "metadata": {},
   "source": [
    "## EP：\n",
    "- 提示用户输入一个年份，然后显示表示这一年的动物\n",
    "![](../Photo/36.png)\n",
    "- 计算身体质量指数的程序\n",
    "- BMI = 以千克为单位的体重除以以米为单位的身高的平方\n",
    "![](../Photo/37.png)"
   ]
  },
  {
   "cell_type": "markdown",
   "metadata": {},
   "source": [
    "## 逻辑运算符\n",
    "![](../Photo/38.png)"
   ]
  },
  {
   "cell_type": "markdown",
   "metadata": {},
   "source": [
    "![](../Photo/39.png)\n",
    "![](../Photo/40.png)"
   ]
  },
  {
   "cell_type": "markdown",
   "metadata": {},
   "source": [
    "## EP：\n",
    "- 判定闰年：一个年份如果能被4整除但不能被100整除，或者能被400整除，那么这个年份就是闰年\n",
    "- 提示用户输入一个年份，并返回是否是闰年\n",
    "- 提示用户输入一个数字，判断其是否为水仙花数"
   ]
  },
  {
   "cell_type": "markdown",
   "metadata": {},
   "source": [
    "## 实例研究：彩票\n",
    "![](../Photo/41.png)"
   ]
  },
  {
   "cell_type": "markdown",
   "metadata": {},
   "source": [
    "# Homework\n",
    "- 1\n",
    "![](../Photo/42.png)"
   ]
  },
  {
   "cell_type": "code",
   "execution_count": 3,
   "metadata": {},
   "outputs": [
    {
     "name": "stdout",
     "output_type": "stream",
     "text": [
      "1\n",
      "2.0\n",
      "1\n",
      "-1.0\n"
     ]
    }
   ],
   "source": [
    "a = eval(input())\n",
    "b = eval(input())\n",
    "c = eval(input())\n",
    "x1 =(-b+((pow(b,2)-4*a*c)**(1/2)))/2*a\n",
    "x2 =(-b-((pow(b,2)-4*a*c)**(1/2)))/2*a\n",
    "if pow(b,2) - 4 * a * c>0:\n",
    "    print(x1,x2)\n",
    "elif pow(b,2) - 4 * a *c==0:\n",
    "    print(x1)\n",
    "else:\n",
    "    print('无解')\n"
   ]
  },
  {
   "cell_type": "markdown",
   "metadata": {},
   "source": [
    "- 2\n",
    "![](../Photo/43.png)"
   ]
  },
  {
   "cell_type": "code",
   "execution_count": 4,
   "metadata": {},
   "outputs": [],
   "source": [
    "import random"
   ]
  },
  {
   "cell_type": "code",
   "execution_count": 5,
   "metadata": {},
   "outputs": [
    {
     "name": "stdout",
     "output_type": "stream",
     "text": [
      "69\n",
      "86\n",
      "请输入俩数之和100\n",
      "错误:flase\n"
     ]
    }
   ],
   "source": [
    "x =random.randint(0,100)\n",
    "y =random.randint(0,100)\n",
    "print(x)\n",
    "print(y)\n",
    "e = eval(input('请输入俩数之和'))\n",
    "if e == a + b:\n",
    "    print('正确:ture')\n",
    "else:\n",
    "    print('错误:flase')\n"
   ]
  },
  {
   "cell_type": "markdown",
   "metadata": {},
   "source": [
    "- 3\n",
    "![](../Photo/44.png)"
   ]
  },
  {
   "cell_type": "code",
   "execution_count": 17,
   "metadata": {},
   "outputs": [
    {
     "name": "stdout",
     "output_type": "stream",
     "text": [
      "0\n",
      "31\n",
      "星期 3\n"
     ]
    }
   ],
   "source": [
    "a =eval(input())\n",
    "b =eval(input())\n",
    "c=a+b\n",
    "d=(a+b)%7\n",
    "if c<=6:\n",
    "    print('星期',c)\n",
    "elif c>6:\n",
    "    print('星期',d)"
   ]
  },
  {
   "cell_type": "markdown",
   "metadata": {},
   "source": [
    "- 4\n",
    "![](../Photo/45.png)"
   ]
  },
  {
   "cell_type": "code",
   "execution_count": 1,
   "metadata": {},
   "outputs": [
    {
     "name": "stdout",
     "output_type": "stream",
     "text": [
      "1\n",
      "4\n",
      "9\n",
      "1 4 9\n"
     ]
    }
   ],
   "source": [
    "a = eval(input())\n",
    "b = eval(input())\n",
    "c = eval(input())\n",
    "if a>b>c:\n",
    "    print(c,b,a)\n",
    "elif a>c>b:\n",
    "    print(b,c,a)\n",
    "elif b>c>a:\n",
    "    print(a,c,b)\n",
    "elif b>a>c:\n",
    "    print(c,a,b)\n",
    "elif c>a>b:\n",
    "    print(b,a,c)\n",
    "else:\n",
    "    print(a,b,c)\n"
   ]
  },
  {
   "cell_type": "markdown",
   "metadata": {},
   "source": [
    "- 5\n",
    "![](../Photo/46.png)"
   ]
  },
  {
   "cell_type": "code",
   "execution_count": 1,
   "metadata": {},
   "outputs": [
    {
     "name": "stdout",
     "output_type": "stream",
     "text": [
      "质量和价钱:50,24.59\n",
      "质量和价钱:25,11.99\n",
      "第二种\n"
     ]
    }
   ],
   "source": [
    "a,b=eval(input('质量和价钱:'))\n",
    "c,d=eval(input('质量和价钱:'))\n",
    "A=b/a\n",
    "B=d/c\n",
    "if A>B:\n",
    "    print('第二种')\n",
    "elif B>A:\n",
    "    print('第一种')    \n",
    "\n"
   ]
  },
  {
   "cell_type": "markdown",
   "metadata": {},
   "source": [
    "- 6\n",
    "![](../Photo/47.png)"
   ]
  },
  {
   "cell_type": "code",
   "execution_count": 15,
   "metadata": {},
   "outputs": [
    {
     "name": "stdout",
     "output_type": "stream",
     "text": [
      "请输入月份及年份:2,2000\n",
      "2000 年 2 月份有29天\n"
     ]
    }
   ],
   "source": [
    "a,b =eval(input('请输入月份及年份:'))\n",
    "if a ==1 or a==3 or a==5 or a==7 or a==8 or a==10 or a==12:\n",
    "    print(b,'年',a,'月份有31天')\n",
    "elif a ==4 or a==6 or a==9 or a==11:\n",
    "    print(b,'年',a,'月份有30天')\n",
    "elif a==2 and b%4==0 and b%100!=0 or b%400==0:\n",
    "    print(b,'年',a,'月份有29天')\n",
    "else:\n",
    "    print(b,'年',a,'月份有28天')\n"
   ]
  },
  {
   "cell_type": "markdown",
   "metadata": {},
   "source": [
    "- 7\n",
    "![](../Photo/48.png)"
   ]
  },
  {
   "cell_type": "code",
   "execution_count": 2,
   "metadata": {},
   "outputs": [
    {
     "name": "stdout",
     "output_type": "stream",
     "text": [
      "请输入猜测值:1\n",
      "0代表的是正面，1代表的是反面\n",
      "0\n",
      "错误:false\n"
     ]
    }
   ],
   "source": [
    "import random\n",
    "a =eval(input('请输入猜测值:'))\n",
    "b =random.randint(0,1)\n",
    "print('0代表的是正面，1代表的是反面')\n",
    "print(b)\n",
    "if a==b:\n",
    "    print('正确:ture')\n",
    "elif a!=b:\n",
    "    print('错误:false')\n",
    "\n"
   ]
  },
  {
   "cell_type": "markdown",
   "metadata": {},
   "source": [
    "- 8\n",
    "![](../Photo/49.png)"
   ]
  },
  {
   "cell_type": "code",
   "execution_count": 3,
   "metadata": {},
   "outputs": [
    {
     "name": "stdout",
     "output_type": "stream",
     "text": [
      "请输入数字1\n",
      "0代表剪刀，1代表的是石头，2代表的是布\n",
      "2\n",
      "输了\n"
     ]
    }
   ],
   "source": [
    "import random\n",
    "a =eval(input('请输入数字'))\n",
    "b =random.randint(0,2)\n",
    "print('0代表剪刀，1代表的是石头，2代表的是布')\n",
    "print(b)\n",
    "if a==0 and b==1:\n",
    "    print('输了')\n",
    "elif a==0 and b==2:\n",
    "    print('赢了')\n",
    "elif a==b:\n",
    "    print('平局')\n",
    "elif a==1 and  b==0:\n",
    "    print('赢了')\n",
    "elif a==1 and  b==2:\n",
    "    print('输了')\n",
    "elif a==2 and  b==0: \n",
    "    print('输了')\n",
    "elif a==2and   b==1:\n",
    "    print('赢了')\n",
    "\n"
   ]
  },
  {
   "cell_type": "markdown",
   "metadata": {},
   "source": [
    "- 9\n",
    "![](../Photo/50.png)"
   ]
  },
  {
   "cell_type": "code",
   "execution_count": 8,
   "metadata": {},
   "outputs": [
    {
     "name": "stdout",
     "output_type": "stream",
     "text": [
      "注意:0代表的是星期天，1代表的是星期一，2代表的是星期二，3代表的是星期三，4代表的是星期四，5代表的是星期五，6代表的是星期六\n",
      "2013\n",
      "1\n",
      "12\n",
      "0\n",
      "0\n"
     ]
    }
   ],
   "source": [
    "print('注意:0代表的是星期天，1代表的是星期一，2代表的是星期二，3代表的是星期三，4代表的是星期四，5代表的是星期五，6代表的是星期六')\n",
    "y =eval(input())\n",
    "m =eval(input())\n",
    "q =eval(input())\n",
    "j=y//100\n",
    "k=y%100\n",
    "h=(q+(26*(m+1))//10+k+(k//4)+(j//4)+5*j)%7\n",
    "if m==1:\n",
    "    j=(y-1)//100\n",
    "    k=(y-1)%100\n",
    "    h=(q+(26*(13+1))//10+k+(k//4)+(j//4)+5*j)%7\n",
    "    print(h)\n",
    "elif m==2:\n",
    "    j=(y-1)//100\n",
    "    k=(y-1)%100\n",
    "    h=(q+(26*(14+1))//10+k+(k//4)+(j//4)+5*j)%7\n",
    "    print(h)\n",
    "print(h)\n",
    "\n",
    "\n",
    "\n"
   ]
  },
  {
   "cell_type": "markdown",
   "metadata": {},
   "source": [
    "- 10\n",
    "![](../Photo/51.png)"
   ]
  },
  {
   "cell_type": "code",
   "execution_count": 5,
   "metadata": {},
   "outputs": [
    {
     "name": "stdout",
     "output_type": "stream",
     "text": [
      "♦ 9\n"
     ]
    }
   ],
   "source": [
    "import random\n",
    "a =random.randint(1,13)\n",
    "b =random.randint(14,17)\n",
    "if a==1:\n",
    "    a='Ace'\n",
    "if a==11:\n",
    "    a='Jock'\n",
    "if a==12:\n",
    "    a='Queen'\n",
    "if a==13:\n",
    "    a='King'\n",
    "if a==14:\n",
    "    b='♣'\n",
    "if a==15:\n",
    "    b='♥'\n",
    "if b==16:\n",
    "    b='♦'\n",
    "if b==17:\n",
    "    b='♠'\n",
    "print(b,a)\n"
   ]
  },
  {
   "cell_type": "markdown",
   "metadata": {},
   "source": [
    "- 11\n",
    "![](../Photo/52.png)"
   ]
  },
  {
   "cell_type": "code",
   "execution_count": 6,
   "metadata": {},
   "outputs": [
    {
     "name": "stdout",
     "output_type": "stream",
     "text": [
      "121\n",
      "回文数\n"
     ]
    }
   ],
   "source": [
    "a =eval(input())\n",
    "if a //100==a%10:\n",
    "    print('回文数')\n",
    "else:\n",
    "    print('不是回文数')\n"
   ]
  },
  {
   "cell_type": "markdown",
   "metadata": {},
   "source": [
    "- 12\n",
    "![](../Photo/53.png)"
   ]
  },
  {
   "cell_type": "code",
   "execution_count": 7,
   "metadata": {},
   "outputs": [
    {
     "name": "stdout",
     "output_type": "stream",
     "text": [
      "1\n",
      "1\n",
      "1\n",
      "周长为 3\n"
     ]
    }
   ],
   "source": [
    "a=eval(input())\n",
    "b =eval(input())\n",
    "c =eval(input())\n",
    "C =a+b+c\n",
    "if a+b>c and (a-b)<c:\n",
    "    print('周长为',C)\n",
    "\n",
    "else:\n",
    "    print('非法')\n"
   ]
  }
 ],
 "metadata": {
  "kernelspec": {
   "display_name": "Python 3",
   "language": "python",
   "name": "python3"
  },
  "language_info": {
   "codemirror_mode": {
    "name": "ipython",
    "version": 3
   },
   "file_extension": ".py",
   "mimetype": "text/x-python",
   "name": "python",
   "nbconvert_exporter": "python",
   "pygments_lexer": "ipython3",
   "version": "3.7.3"
  }
 },
 "nbformat": 4,
 "nbformat_minor": 2
}
